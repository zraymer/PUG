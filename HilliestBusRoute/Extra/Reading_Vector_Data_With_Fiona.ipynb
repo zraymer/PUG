{
 "cells": [
  {
   "cell_type": "code",
   "execution_count": 26,
   "metadata": {},
   "outputs": [],
   "source": [
    "import os\n",
    "import fiona\n",
    "import numpy as np\n",
    "import matplotlib.pyplot as plt"
   ]
  },
  {
   "cell_type": "code",
   "execution_count": 2,
   "metadata": {},
   "outputs": [],
   "source": [
    "# Create path to data directory, make sure it exists\n",
    "data_dir = os.path.join(os.path.normpath(os.getcwd() + os.sep + os.pardir),\"Data\")\n",
    "assert os.path.isdir"
   ]
  },
  {
   "cell_type": "code",
   "execution_count": 3,
   "metadata": {},
   "outputs": [],
   "source": [
    "# Define paths to image file and shape files + make sure it exists\n",
    "shpf = os.path.join(data_dir, \"TriMet_BusRoutes_WGS84_UTM10N.shp\")\n",
    "assert os.path.isfile(shpf)"
   ]
  },
  {
   "cell_type": "markdown",
   "metadata": {},
   "source": [
    "## Opening and Closing Files with Fiona"
   ]
  },
  {
   "cell_type": "code",
   "execution_count": 8,
   "metadata": {},
   "outputs": [
    {
     "name": "stdout",
     "output_type": "stream",
     "text": [
      "192\n",
      "<closed Collection 'D:\\Zach_Working\\02_Scratch\\PUG\\HilliestBusRoute\\Data\\TriMet_BusRoutes_WGS84_UTM10N.shp:TriMet_BusRoutes_WGS84_UTM10N', mode 'r' at 0x563e160>\n"
     ]
    }
   ],
   "source": [
    "#two ways of opening a shapefile\n",
    "with fiona.open(shpf,'r') as src:\n",
    "    print(len(src))\n",
    "\n",
    "print(src)  # File is closed when code block is complete"
   ]
  },
  {
   "cell_type": "code",
   "execution_count": 10,
   "metadata": {},
   "outputs": [
    {
     "name": "stdout",
     "output_type": "stream",
     "text": [
      "192\n",
      "<open Collection 'D:\\Zach_Working\\02_Scratch\\PUG\\HilliestBusRoute\\Data\\TriMet_BusRoutes_WGS84_UTM10N.shp:TriMet_BusRoutes_WGS84_UTM10N', mode 'r' at 0x563f240>\n"
     ]
    }
   ],
   "source": [
    "src = fiona.open(shpf, 'r')\n",
    "\n",
    "print(len(src))\n",
    "print(src) # File is still open"
   ]
  },
  {
   "cell_type": "code",
   "execution_count": 13,
   "metadata": {},
   "outputs": [
    {
     "name": "stdout",
     "output_type": "stream",
     "text": [
      "<closed Collection 'D:\\Zach_Working\\02_Scratch\\PUG\\HilliestBusRoute\\Data\\TriMet_BusRoutes_WGS84_UTM10N.shp:TriMet_BusRoutes_WGS84_UTM10N', mode 'r' at 0x563f240>\n"
     ]
    }
   ],
   "source": [
    "# Close the file\n",
    "src.close()\n",
    "print(src)"
   ]
  },
  {
   "cell_type": "markdown",
   "metadata": {},
   "source": [
    "## Reading Data"
   ]
  },
  {
   "cell_type": "code",
   "execution_count": 16,
   "metadata": {},
   "outputs": [],
   "source": [
    "### Let us extract the below information from the shapefile\n",
    "# 1. Number of features in dataset\n",
    "# 2. Get points from the first feature\n",
    "# 3. Plot the points"
   ]
  },
  {
   "cell_type": "code",
   "execution_count": 17,
   "metadata": {},
   "outputs": [],
   "source": [
    "src = fiona.open(shpf, 'r') \n",
    "#\"src\" is referred to as a 'collection'"
   ]
  },
  {
   "cell_type": "code",
   "execution_count": null,
   "metadata": {},
   "outputs": [],
   "source": [
    "### Multiple ways of accessing data\n",
    "# 1. Using \"next\" on the collection (\"src\")\n",
    "        # rec = next(iter(src))\n",
    "        # rec['id']\n",
    "        \n",
    "# 2. Using src as a list, and indexing to find your desired record\n",
    "        # rec = src[0]\n",
    "        # rec['id']\n"
   ]
  },
  {
   "cell_type": "code",
   "execution_count": 46,
   "metadata": {},
   "outputs": [
    {
     "data": {
      "text/plain": [
       "dict_keys(['type', 'id', 'properties', 'geometry'])"
      ]
     },
     "execution_count": 46,
     "metadata": {},
     "output_type": "execute_result"
    }
   ],
   "source": [
    "# Lets pick an FID to work with\n",
    "fid = 0\n",
    "src[fid].keys()"
   ]
  },
  {
   "cell_type": "code",
   "execution_count": 53,
   "metadata": {},
   "outputs": [
    {
     "data": {
      "text/plain": [
       "'Feature'"
      ]
     },
     "execution_count": 53,
     "metadata": {},
     "output_type": "execute_result"
    }
   ],
   "source": [
    "src[fid]['type']"
   ]
  },
  {
   "cell_type": "code",
   "execution_count": 48,
   "metadata": {},
   "outputs": [
    {
     "data": {
      "text/plain": [
       "'0'"
      ]
     },
     "execution_count": 48,
     "metadata": {},
     "output_type": "execute_result"
    }
   ],
   "source": [
    "# the id key unlocks the fid of that record\n",
    "src[fid]['id']"
   ]
  },
  {
   "cell_type": "code",
   "execution_count": 52,
   "metadata": {},
   "outputs": [
    {
     "data": {
      "text/plain": [
       "OrderedDict([('rte', 190),\n",
       "             ('dir', 1),\n",
       "             ('rte_desc', 'MAX Yellow Line'),\n",
       "             ('public_rte', None),\n",
       "             ('dir_desc', 'To Portland City Center'),\n",
       "             ('frequent', 'False'),\n",
       "             ('type', 'MAX')])"
      ]
     },
     "execution_count": 52,
     "metadata": {},
     "output_type": "execute_result"
    }
   ],
   "source": [
    "# the properties key unlocks an ordered dictionary, with keys being field names\n",
    "# and values being the attributes for that record\n",
    "src[fid]['properties']"
   ]
  },
  {
   "cell_type": "code",
   "execution_count": 56,
   "metadata": {},
   "outputs": [],
   "source": [
    "# the geometry key unlocks a dictoinary that tells you the geometry type\n",
    "# and a list of tuples representing the coordinates of the record\n",
    "\n",
    "# src[fid]['geometry']"
   ]
  },
  {
   "cell_type": "code",
   "execution_count": 57,
   "metadata": {},
   "outputs": [],
   "source": [
    "# Get the line coordinates, and convert them to an array to make plotting easier\n",
    "points = src[0]['geometry']['coordinates']\n",
    "point_list = np.array([list(pt) for pt in points])"
   ]
  },
  {
   "cell_type": "code",
   "execution_count": 58,
   "metadata": {},
   "outputs": [
    {
     "data": {
      "image/png": "[encoded data removed]",
      "text/plain": [
       "<Figure size 432x288 with 1 Axes>"
      ]
     },
     "metadata": {
      "needs_background": "light"
     },
     "output_type": "display_data"
    },
    {
     "data": {
      "image/png": "[encoded data removed]",
      "text/plain": [
       "<Figure size 432x288 with 1 Axes>"
      ]
     },
     "metadata": {
      "needs_background": "light"
     },
     "output_type": "display_data"
    }
   ],
   "source": [
    "# Scatter Plot\n",
    "plt.scatter(point_list[:,0],point_list[:,1])\n",
    "plt.axis('equal')\n",
    "plt.title('Scatter Plot')\n",
    "plt.show()\n",
    "\n",
    "# Line Plot\n",
    "plt.plot(point_list[:,0],point_list[:,1])\n",
    "plt.axis('equal')\n",
    "plt.title('Line Plot')\n",
    "plt.show()"
   ]
  },
  {
   "cell_type": "code",
   "execution_count": null,
   "metadata": {},
   "outputs": [],
   "source": []
  },
  {
   "cell_type": "code",
   "execution_count": null,
   "metadata": {},
   "outputs": [],
   "source": []
  }
 ],
 "metadata": {
  "kernelspec": {
   "display_name": "Python 3",
   "language": "python",
   "name": "python3"
  },
  "language_info": {
   "codemirror_mode": {
    "name": "ipython",
    "version": 3
   },
   "file_extension": ".py",
   "mimetype": "text/x-python",
   "name": "python",
   "nbconvert_exporter": "python",
   "pygments_lexer": "ipython3",
   "version": "3.6.8"
  }
 },
 "nbformat": 4,
 "nbformat_minor": 2
}
