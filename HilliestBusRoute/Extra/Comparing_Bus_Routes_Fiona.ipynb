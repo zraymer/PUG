{
 "cells": [
  {
   "cell_type": "code",
   "execution_count": 1,
   "metadata": {},
   "outputs": [],
   "source": [
    "import os\n",
    "import rasterio\n",
    "import fiona\n",
    "import numpy as np\n",
    "import matplotlib.pyplot as plt"
   ]
  },
  {
   "cell_type": "code",
   "execution_count": 2,
   "metadata": {},
   "outputs": [],
   "source": [
    "# Create path to data directory, make sure it exists\n",
    "data_dir = os.path.join(os.path.normpath(os.getcwd() + os.sep + os.pardir),\"Data\")\n",
    "assert os.path.isdir"
   ]
  },
  {
   "cell_type": "code",
   "execution_count": 10,
   "metadata": {},
   "outputs": [],
   "source": [
    "# Define paths to image file and shape files + make sure it exists\n",
    "imgf = os.path.join(data_dir, \"PDX_DEM_WGS84_UTM10N_Zm_INT16.tif\")\n",
    "assert os.path.isfile(imgf)\n",
    "\n",
    "shpf = os.path.join(data_dir, \"TriMet_BusRoutes_WGS84_UTM10N.shp\")\n",
    "assert os.path.isfile(shpf)"
   ]
  },
  {
   "cell_type": "code",
   "execution_count": 11,
   "metadata": {},
   "outputs": [],
   "source": [
    "# Lets find the elevation for each point in a line from the\n",
    "# bus route shapefiles\n",
    "\n",
    "# Open the shape\n",
    "shp = fiona.open(shpf, 'r')\n",
    "\n",
    "# Save line coordinates to a variable -- remember this will be a list \n",
    "# of tuples - for now lets leave it that way\n",
    "line_points = shp[0]['geometry']['coordinates']"
   ]
  },
  {
   "cell_type": "code",
   "execution_count": 12,
   "metadata": {},
   "outputs": [],
   "source": [
    "# Open the raster\n",
    "img = rasterio.open(imgf, 'r')\n",
    "\n",
    "# Read the first (and only) band of the image into a numpy array\n",
    "dem = img.read(1)"
   ]
  },
  {
   "cell_type": "code",
   "execution_count": 13,
   "metadata": {},
   "outputs": [
    {
     "name": "stdout",
     "output_type": "stream",
     "text": [
      "525345.3080198849 5041202.045433829\n"
     ]
    },
    {
     "data": {
      "text/plain": [
       "(3445.2088283737758, 1280.6911808897858)"
      ]
     },
     "execution_count": 13,
     "metadata": {},
     "output_type": "execute_result"
    }
   ],
   "source": [
    "# First lets query one line point in the array\n",
    "# Remember, if we multiply the inverse of a RASTERIO geotransform \n",
    "# by a points coordinates, we are returned the (cols, rows) of the array\n",
    "x, y = line_points[0]\n",
    "print(x, y)\n",
    "~img.transform * (x, y)\n"
   ]
  },
  {
   "cell_type": "code",
   "execution_count": 14,
   "metadata": {},
   "outputs": [
    {
     "name": "stdout",
     "output_type": "stream",
     "text": [
      "101\n",
      "10\n"
     ]
    }
   ],
   "source": [
    "# we can use the above values to query the array\n",
    "print(dem[3445, 1280]) #WRONG - We transposed the cols/rows\n",
    "print(dem[1280, 3445]) #CORRECT - Numpy indexing is [rows, cols] for a 2D array"
   ]
  },
  {
   "cell_type": "code",
   "execution_count": 20,
   "metadata": {},
   "outputs": [],
   "source": [
    "eles = []\n",
    "for i, pt in enumerate(line_points):\n",
    "    x, y = line_points[i]\n",
    "    \n",
    "    c, r = ~img.transform * (x, y)\n",
    "    ele = dem[int(r), int(c)]\n",
    "    eles.append(ele)\n",
    "    "
   ]
  },
  {
   "cell_type": "code",
   "execution_count": 24,
   "metadata": {},
   "outputs": [
    {
     "data": {
      "image/png": "[encoded data removed]",
      "text/plain": [
       "<Figure size 432x288 with 1 Axes>"
      ]
     },
     "metadata": {
      "needs_background": "light"
     },
     "output_type": "display_data"
    }
   ],
   "source": [
    "plt.plot(eles)\n",
    "plt.axis('equal')\n",
    "plt.show()"
   ]
  },
  {
   "cell_type": "code",
   "execution_count": null,
   "metadata": {},
   "outputs": [],
   "source": []
  }
 ],
 "metadata": {
  "kernelspec": {
   "display_name": "Python 3",
   "language": "python",
   "name": "python3"
  },
  "language_info": {
   "codemirror_mode": {
    "name": "ipython",
    "version": 3
   },
   "file_extension": ".py",
   "mimetype": "text/x-python",
   "name": "python",
   "nbconvert_exporter": "python",
   "pygments_lexer": "ipython3",
   "version": "3.6.8"
  }
 },
 "nbformat": 4,
 "nbformat_minor": 2
}
