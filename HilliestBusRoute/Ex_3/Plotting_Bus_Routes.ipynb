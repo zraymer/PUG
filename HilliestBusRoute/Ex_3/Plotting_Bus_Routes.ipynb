{
 "cells": [
  {
   "cell_type": "code",
   "execution_count": 14,
   "metadata": {},
   "outputs": [],
   "source": [
    "import os\n",
    "import ogr\n",
    "import gdal\n",
    "from gdalconst import *\n",
    "import numpy as np\n",
    "import matplotlib.pyplot as plt"
   ]
  },
  {
   "cell_type": "code",
   "execution_count": 2,
   "metadata": {},
   "outputs": [],
   "source": [
    "# Session Goals\n",
    "# 1. Query a DEM for elevations of each Vertex in a Bus Route\n",
    "# 2. Interpolate longer segments of the bus route so the graph is smoother\n",
    "# 3. Calculate Which bus route has the most elevation gain\n",
    "# 4. Calculate which bus route has the most elevation change (pos + neg)"
   ]
  },
  {
   "cell_type": "code",
   "execution_count": 5,
   "metadata": {},
   "outputs": [],
   "source": [
    "# Create path to data directory, make sure it exists\n",
    "data_dir = os.path.join(os.path.normpath(os.getcwd() + os.sep + os.pardir),\"Data\")\n",
    "assert os.path.isdir"
   ]
  },
  {
   "cell_type": "code",
   "execution_count": 7,
   "metadata": {},
   "outputs": [],
   "source": [
    "# Define paths to shapefile and shape files + make sure it exists\n",
    "shpf = os.path.join(data_dir, \"PDX_BusRoutes_Manaul.shp\")\n",
    "assert os.path.isfile(shpf)\n",
    "\n",
    "imgf = os.path.join(data_dir, \"PDX_DEM_WGS84_UTM10N_Zm_INT16.tif\")\n",
    "assert os.path.isfile(imgf)"
   ]
  },
  {
   "cell_type": "markdown",
   "metadata": {},
   "source": [
    "# Query a Dem for its elevation"
   ]
  },
  {
   "cell_type": "markdown",
   "metadata": {},
   "source": [
    "#### Code for extracting points from a feature"
   ]
  },
  {
   "cell_type": "code",
   "execution_count": null,
   "metadata": {},
   "outputs": [],
   "source": [
    "# Create the Data Source\n",
    "ds = ogr.Open(shpf, GA_ReadOnly)\n",
    "\n",
    "# Create layer from first (only) layer in file\n",
    "lyr = ds.GetLayer(0) \n",
    "\n",
    "# Access a single feature\n",
    "feat = lyr.GetFeature(0)\n",
    "\n",
    "# Get Points from the geometry of a feature\n",
    "points = feat.GetGeometryRef().GetPoints()\n",
    "\n",
    "# fix it:\n",
    "point_list = np.array([list(pt) for pt in points])\n",
    "\n",
    "\n",
    "#QUESTION\n",
    "# Which Bus Route is it?\n",
    "print(feat.GetField('route_num'))"
   ]
  },
  {
   "cell_type": "code",
   "execution_count": 12,
   "metadata": {},
   "outputs": [
    {
     "data": {
      "image/png": "[encoded data removed]",
      "text/plain": [
       "<Figure size 432x288 with 1 Axes>"
      ]
     },
     "metadata": {
      "needs_background": "light"
     },
     "output_type": "display_data"
    }
   ],
   "source": [
    "# Lets plot it\n",
    "plt.plot(point_list[:,0],point_list[:,1])\n",
    "plt.axis('equal')\n",
    "plt.show()"
   ]
  },
  {
   "cell_type": "markdown",
   "metadata": {},
   "source": [
    "#### Code for opening the DEM and reading the array to a variable"
   ]
  },
  {
   "cell_type": "code",
   "execution_count": 16,
   "metadata": {},
   "outputs": [],
   "source": [
    "# Open the dataset\n",
    "rds = gdal.Open(imgf, GA_ReadOnly)\n",
    "\n",
    "# Store the geotransform \n",
    "gt = rds.GetGeoTransform()\n",
    "\n",
    "# Get a specific raster band\n",
    "band = rds.GetRasterBand(1)\n",
    "\n",
    "# Turn the raster band into a numpy array\n",
    "data = band.ReadAsArray()"
   ]
  },
  {
   "cell_type": "markdown",
   "metadata": {},
   "source": [
    "#### Code for querying a cell based on x,y coordinates"
   ]
  },
  {
   "cell_type": "code",
   "execution_count": 18,
   "metadata": {},
   "outputs": [
    {
     "data": {
      "text/plain": [
       "12"
      ]
     },
     "execution_count": 18,
     "metadata": {},
     "output_type": "execute_result"
    }
   ],
   "source": [
    "# Start with a point\n",
    "ox, oy = (525149.055,  5040856.528)\n",
    "\n",
    "# Find the offset from the origin for the x and y points\n",
    "ox_off = ox - gt[0]\n",
    "oy_off = oy - gt[3]\n",
    "\n",
    "# Divide the offset by the step size to get row/col location\n",
    "ox_c = ox_off/gt[1]\n",
    "oy_r = oy_off/gt[5]\n",
    "\n",
    "# Use calculated indexes to get office elevation\n",
    "data[int(oy_r),int(ox_c)]"
   ]
  },
  {
   "cell_type": "code",
   "execution_count": 19,
   "metadata": {},
   "outputs": [],
   "source": [
    "# Lets set up a loop to get all the elevation values\n",
    "elevations= []\n",
    "for pnt in point_list:\n",
    "    x,y = pnt\n",
    "    x_off = x - gt[0]\n",
    "    y_off = y - gt[3]\n",
    "    x_c = x_off/gt[1]\n",
    "    y_r = y_off/gt[5]\n",
    "    ele = data[int(y_r),int(x_c)]\n",
    "    elevations.append(ele)\n",
    "    \n",
    "# Turn it into a function:\n",
    "def get_elevations(list_of_points,data_array):\n",
    "    elevations= []\n",
    "    for pnt in list_of_points:\n",
    "        x,y = pnt\n",
    "        x_off = x - gt[0]\n",
    "        y_off = y - gt[3]\n",
    "        x_c = x_off/gt[1]\n",
    "        y_r = y_off/gt[5]\n",
    "        ele = data_array[int(y_r),int(x_c)]\n",
    "        elevations.append(ele)\n",
    "    return elevations\n",
    "    "
   ]
  },
  {
   "cell_type": "code",
   "execution_count": 21,
   "metadata": {},
   "outputs": [
    {
     "data": {
      "image/png": "[encoded data removed]",
      "text/plain": [
       "<Figure size 432x288 with 1 Axes>"
      ]
     },
     "metadata": {
      "needs_background": "light"
     },
     "output_type": "display_data"
    }
   ],
   "source": [
    "plt.plot(elevations)\n",
    "plt.axis('equal')\n",
    "plt.show()"
   ]
  },
  {
   "cell_type": "code",
   "execution_count": 22,
   "metadata": {},
   "outputs": [],
   "source": [
    "# QUESTION: WHY DOES THIS LOOK SO WEIRD???\n",
    "# Lets fix it"
   ]
  },
  {
   "cell_type": "markdown",
   "metadata": {},
   "source": [
    "#### Calculate distance of each vertex along line (from start)"
   ]
  },
  {
   "cell_type": "code",
   "execution_count": 35,
   "metadata": {},
   "outputs": [],
   "source": [
    "distances = []\n",
    "td = 0\n",
    "for i, pnt in enumerate(point_list):\n",
    "    if i == 0:\n",
    "        distances.append(0)\n",
    "    else:\n",
    "        x2, y2 = pnt\n",
    "        x1, y1 = point_list[i-1]\n",
    "        dist = np.sqrt((x2-x1)**2 + (y2-y1)**2)\n",
    "        td += dist\n",
    "        distances.append(td)\n",
    "        \n",
    "# Turn it into a function:\n",
    "def get_distances(list_of_points):\n",
    "    distances = []\n",
    "    td = 0\n",
    "    for i, pnt in enumerate(list_of_points):\n",
    "        if i == 0:\n",
    "            distances.append(0)\n",
    "        else:\n",
    "            x2, y2 = pnt\n",
    "            x1, y1 = list_of_points[i-1]\n",
    "            dist = np.sqrt((x2-x1)**2 + (y2-y1)**2)\n",
    "            td += dist\n",
    "            distances.append(td)\n",
    "    return distances"
   ]
  },
  {
   "cell_type": "code",
   "execution_count": 39,
   "metadata": {},
   "outputs": [
    {
     "data": {
      "image/png": "[encoded data removed]",
      "text/plain": [
       "<Figure size 432x288 with 1 Axes>"
      ]
     },
     "metadata": {
      "needs_background": "light"
     },
     "output_type": "display_data"
    }
   ],
   "source": [
    "# Plot Elevation vs. distance\n",
    "plt.plot(distances, elevations)\n",
    "plt.show()"
   ]
  },
  {
   "cell_type": "markdown",
   "metadata": {},
   "source": [
    "# Interpolating lines greater than 10m Long"
   ]
  },
  {
   "cell_type": "code",
   "execution_count": 43,
   "metadata": {},
   "outputs": [],
   "source": [
    "from shapely.geometry import LineString"
   ]
  },
  {
   "cell_type": "code",
   "execution_count": 44,
   "metadata": {},
   "outputs": [],
   "source": [
    "x1,y1 = point_list[0]\n",
    "x2,y2 = point_list[1]"
   ]
  },
  {
   "cell_type": "code",
   "execution_count": 46,
   "metadata": {},
   "outputs": [],
   "source": [
    "line = LineString((point_list[0],point_list[1]))"
   ]
  },
  {
   "cell_type": "code",
   "execution_count": 52,
   "metadata": {},
   "outputs": [
    {
     "name": "stdout",
     "output_type": "stream",
     "text": [
      "POINT (515477.7550865635 5037447.667433392)\n"
     ]
    }
   ],
   "source": [
    "# Using the interpolate method, we can calculate the coordinates of a point (X) distance along the line\n",
    "print(line.interpolate(10))"
   ]
  },
  {
   "cell_type": "code",
   "execution_count": 56,
   "metadata": {},
   "outputs": [
    {
     "name": "stdout",
     "output_type": "stream",
     "text": [
      "183.78582451564552\n",
      "18.37858245156455\n",
      "[  0.          10.81093085  21.62186171  32.43279256  43.24372342\n",
      "  54.05465427  64.86558512  75.67651598  86.48744683  97.29837768\n",
      " 108.10930854 118.92023939 129.73117025 140.5421011  151.35303195\n",
      " 162.16396281 172.97489366 183.78582452]\n"
     ]
    },
    {
     "name": "stderr",
     "output_type": "stream",
     "text": [
      "C:\\Users\\watershed\\AppData\\Local\\Continuum\\anaconda3\\envs\\pug_env_py36\\lib\\site-packages\\ipykernel_launcher.py:4: DeprecationWarning: object of type <class 'float'> cannot be safely interpreted as an integer.\n",
      "  after removing the cwd from sys.path.\n"
     ]
    }
   ],
   "source": [
    "# If we know the length of the line, we can calculate the coordinates of points 10m along the line by looping:\n",
    "length = line.length\n",
    "spacing = length/10\n",
    "intervals = np.linspace(0, length, spacing)\n",
    "print(length)\n",
    "print(spacing)\n",
    "print(intervals)"
   ]
  },
  {
   "cell_type": "code",
   "execution_count": null,
   "metadata": {},
   "outputs": [],
   "source": []
  }
 ],
 "metadata": {
  "kernelspec": {
   "display_name": "Python 3",
   "language": "python",
   "name": "python3"
  },
  "language_info": {
   "codemirror_mode": {
    "name": "ipython",
    "version": 3
   },
   "file_extension": ".py",
   "mimetype": "text/x-python",
   "name": "python",
   "nbconvert_exporter": "python",
   "pygments_lexer": "ipython3",
   "version": "3.6.8"
  }
 },
 "nbformat": 4,
 "nbformat_minor": 2
}
