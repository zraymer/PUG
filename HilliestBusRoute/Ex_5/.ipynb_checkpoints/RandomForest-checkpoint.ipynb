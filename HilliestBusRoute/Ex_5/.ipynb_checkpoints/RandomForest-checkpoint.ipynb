{
 "cells": [
  {
   "cell_type": "code",
   "execution_count": 2,
   "metadata": {},
   "outputs": [],
   "source": [
    "import os\n",
    "import gdal\n",
    "from gdalconst import *\n",
    "import osr, ogr\n",
    "import numpy as np\n",
    "import sys\n",
    "from sklearn.ensemble import RandomForestClassifier\n",
    "from sklearn.externals.joblib.parallel import cpu_count, Parallel, delayed"
   ]
  },
  {
   "cell_type": "code",
   "execution_count": 3,
   "metadata": {},
   "outputs": [],
   "source": [
    "# Create path to data directory, make sure it exists\n",
    "data_dir = os.path.join(os.path.normpath(os.getcwd() + os.sep + os.pardir),\"Data\")\n",
    "assert os.path.isdir"
   ]
  },
  {
   "cell_type": "code",
   "execution_count": 4,
   "metadata": {},
   "outputs": [],
   "source": [
    "# Define paths to shapefile and shape files + make sure it exists\n",
    "trdf = os.path.join(data_dir, \"Training_Data.shp\")\n",
    "assert os.path.isfile(trdf)\n",
    "\n",
    "valf = os.path.join(data_dir, \"Validation_Data.shp\")\n",
    "assert os.path.isfile(valf)\n",
    "\n",
    "imgf = os.path.join(data_dir, \"CASI_Subset.tif\")\n",
    "assert os.path.isfile(imgf)"
   ]
  },
  {
   "cell_type": "code",
   "execution_count": 5,
   "metadata": {},
   "outputs": [],
   "source": [
    "# Lets write a function that gives us the row/column offset and the number of rows and columns to extract\n",
    "# This function will help us extract the box of pixels around the feature in question. the geotransform \n",
    "# comes from the raster, the bounding box comes from a specific feature in a shapfile\n",
    "\n",
    "def bbox_to_pixel_offsets(geo_transform, bounding_box):\n",
    "    origin_x = geo_transform[0]\n",
    "    origin_y = geo_transform[3]\n",
    "    pixel_width = geo_transform[1]\n",
    "    pixel_height = geo_transform[5]\n",
    "    x1 = int(round((bounding_box[0] - origin_x) / pixel_width))\n",
    "    x2 = int(round((bounding_box[1] - origin_x) / pixel_width))\n",
    "    y1 = int(round((bounding_box[3] - origin_y) / pixel_height))\n",
    "    y2 = int(round((bounding_box[2] - origin_y) / pixel_height))\n",
    "    xsize = x2 - x1\n",
    "    ysize = y2 - y1\n",
    "    return [x1, y1, xsize, ysize]"
   ]
  },
  {
   "cell_type": "code",
   "execution_count": 67,
   "metadata": {},
   "outputs": [],
   "source": [
    "def extract_data(vector_path, raster_path, class_field_name):\n",
    "    \n",
    "    # Turn raster data into a numpy array\n",
    "    rds = gdal.Open(raster_path)\n",
    "    gt = rds.GetGeoTransform()\n",
    "    bands = rds.RasterCount\n",
    "    \n",
    "    # Open the vector dataset and get the data layer\n",
    "    vds = ogr.Open(vector_path)\n",
    "    lyr = vds.GetLayer(0)\n",
    "    feature_count = lyr.GetFeatureCount()\n",
    "    \n",
    "    training_data = []\n",
    "    training_labels = []\n",
    "    \n",
    "    for fid in range(feature_count):\n",
    "        #get the feature provided from the function arguements\n",
    "        feature = lyr.GetFeature(fid)\n",
    "        bbox = feature.geometry().GetEnvelope()\n",
    "\n",
    "        offset = bbox_to_pixel_offsets(gt, bbox)\n",
    "\n",
    "        # use arguements of ReadAsArray to only read the part of the raster we want\n",
    "        subset = rds.ReadAsArray(xoff=offset[0], yoff=offset[1], xsize=offset[2], ysize=offset[3]).reshape(bands, -1).T\n",
    "\n",
    "        # Create Drivers for new vector and raster to be created\n",
    "        mem_drv = ogr.GetDriverByName('Memory')\n",
    "        driver = gdal.GetDriverByName('MEM')\n",
    "        \n",
    "        # Create new geotransform that will be for the feature chip\n",
    "        new_gt = ((gt[0] + (offset[0] * gt[1])), gt[1], 0.0,\n",
    "                  (gt[3] + (offset[1] * gt[5])), 0.0, gt[5])\n",
    "        \n",
    "        # Create ouput data source for raster and vector - respectively\n",
    "        mem_ds = mem_drv.CreateDataSource('out')\n",
    "        mem_layer = mem_ds.CreateLayer('poly', lyr.GetSpatialRef(), ogr.wkbPolygon)\n",
    "        \n",
    "        # Clone the vector to the new feature\n",
    "        mem_layer.CreateFeature(feature.Clone())\n",
    "        \n",
    "        # Tell the new raster what size it is(cols, rows, band, data type)\n",
    "        rvds = driver.Create('', offset[2], offset[3], 1, gdal.GDT_Byte)\n",
    "        \n",
    "        # Tell the new raster where it lives in space\n",
    "        rvds.SetGeoTransform(new_gt)\n",
    "\n",
    "        # Use rasterize layer function to burn a vector into a raster\n",
    "        gdal.RasterizeLayer(rvds, [1], mem_layer, burn_values=[1])\n",
    "        \n",
    "        # read the raster into a numpy array\n",
    "        rv_array = rvds.ReadAsArray().reshape(-1,1)\n",
    "\n",
    "        # Get the class label for this feature\n",
    "        cls = feature.GetField(class_field_name)\n",
    "        \n",
    "        # Create an array with each pixel having the value of the class field from the shapefile\n",
    "        pixel_labels = cls * rv_array\n",
    "        \n",
    "        # Add each pixel's features (bands) to an array that we will use in training \n",
    "        training_data += [list(px) for px in subset[np.ravel(rv_array)==1]]\n",
    "        \n",
    "        # Add each pixel's training labels to an array that will be used in training\n",
    "        training_labels += [px for px in pixel_labels[np.ravel(rv_array)==1]]\n",
    "\n",
    "          \n",
    "    # Return the lists as numpy arrays so they are easily used\n",
    "    # Use .ravel() on the training labels to return a 1D array\n",
    "    return np.array(training_labels).ravel(), np.array(training_data)\n",
    "\n"
   ]
  },
  {
   "cell_type": "code",
   "execution_count": 68,
   "metadata": {},
   "outputs": [],
   "source": [
    "# Run Function on training data shapefile\n",
    "tl, td = extract_data(trdf, imgf, \"Class\")\n",
    "\n",
    "# Run Function on validation data shapefile\n",
    "vl, vd = extract_data(valf, imgf, \"Class\")"
   ]
  },
  {
   "cell_type": "code",
   "execution_count": 59,
   "metadata": {},
   "outputs": [],
   "source": [
    "# Function to tell Random Forest how many cores it can use\n",
    "def jobs():\n",
    "    if cpu_count() > 2:\n",
    "        return cpu_count() - 2\n",
    "    else:\n",
    "        return 1"
   ]
  },
  {
   "cell_type": "code",
   "execution_count": 60,
   "metadata": {},
   "outputs": [],
   "source": [
    "# Create the random forest classifier\n",
    "\n",
    "# Simple Method -- predefine model parameters\n",
    "def simple_model(train_data, train_labels):\n",
    "    rf = RandomForestClassifier(n_estimators=100, max_depth=2, random_state=0, n_jobs=jobs())\n",
    "    rf.fit(train_data, train_labels) # .fit() trains the model\n",
    "    return rf\n",
    "\n",
    "# Advanced Method allow the algorithm to search over multiple sets of parameters\n",
    "# There are more than this, but these are common:\n",
    "#    n_estimators = number of trees in the foreset\n",
    "#    max_depth = max number of levels in each decision tree\n",
    "#    bootstrap = method for sampling data points (with or without replacement)\n",
    "\n",
    "from sklearn.model_selection import StratifiedShuffleSplit, GridSearchCV\n",
    "def advanced_model(train_data, train_labels):\n",
    "    # Define parameters that will be used in grid search\n",
    "    estimator_range = [25, 50, 75, 100]\n",
    "    max_depth_range = [1, 2, 3, None]\n",
    "    bootstrap_range =  [True, False]\n",
    "    param_grid = {'n_estimators':estimator_range,\n",
    "                  'max_depth':max_depth_range,\n",
    "                  'bootstrap':bootstrap_range}\n",
    "    \n",
    "    # Define cross validation method -- https://scikit-learn.org/stable/modules/cross_validation.html\n",
    "    # SSS creates splits by preserving the same percentage for each target class as in the complete set.\n",
    "    cv = StratifiedShuffleSplit(n_splits=5, test_size=0.33, random_state=0)\n",
    "\n",
    "    grid = GridSearchCV(RandomForestClassifier(), param_grid=param_grid, cv=cv, n_jobs=jobs())\n",
    "    grid.fit(train_data, train_labels)\n",
    "    return grid\n",
    "\n"
   ]
  },
  {
   "cell_type": "code",
   "execution_count": 70,
   "metadata": {},
   "outputs": [],
   "source": [
    "# Build the advanced model\n",
    "arf = advanced_model(td, tl)\n",
    "\n",
    "# Build the simple model\n",
    "srf = simple_model(td, tl)\n"
   ]
  },
  {
   "cell_type": "code",
   "execution_count": 113,
   "metadata": {},
   "outputs": [],
   "source": [
    "#Classify the Image\n",
    "rds = gdal.Open(imgf)\n",
    "data  = rds.ReadAsArray()\n",
    "\n",
    "#Transform data into correct shape to predict\n",
    "alldata = data.reshape(data.shape[0], -1).T"
   ]
  },
  {
   "cell_type": "code",
   "execution_count": 114,
   "metadata": {},
   "outputs": [],
   "source": [
    "# Predict using both models\n",
    "arf_all = arf.predict(alldata)\n",
    "srf_all = srf.predict(alldata)"
   ]
  },
  {
   "cell_type": "code",
   "execution_count": 124,
   "metadata": {},
   "outputs": [
    {
     "data": {
      "image/png": "[encoded data removed]",
      "text/plain": [
       "<Figure size 432x288 with 2 Axes>"
      ]
     },
     "metadata": {
      "needs_background": "light"
     },
     "output_type": "display_data"
    }
   ],
   "source": [
    "# Plot the output\n",
    "plt.imshow(srf_all.reshape(data.shape[1],data.shape[2]),interpolation='nearest')\n",
    "plt.colorbar()\n",
    "plt.title(\"Simple\")\n",
    "plt.show()\n"
   ]
  },
  {
   "cell_type": "code",
   "execution_count": 126,
   "metadata": {},
   "outputs": [
    {
     "data": {
      "image/png": "[encoded data removed]",
      "text/plain": [
       "<Figure size 432x288 with 2 Axes>"
      ]
     },
     "metadata": {
      "needs_background": "light"
     },
     "output_type": "display_data"
    }
   ],
   "source": [
    "# Plot the output\n",
    "plt.imshow(arf_all.reshape(data.shape[1],data.shape[2]),interpolation='nearest')\n",
    "plt.colorbar()\n",
    "plt.title(\"Advanced\")\n",
    "plt.show()"
   ]
  },
  {
   "cell_type": "code",
   "execution_count": null,
   "metadata": {},
   "outputs": [],
   "source": [
    "# Woof that looks bad... \n",
    "# But how bad\n",
    "# Lets test on the validation we extracted earlier\n",
    "arf_pred = arf.predict(vd)\n",
    "srf_pred = srf.predict(vd)"
   ]
  },
  {
   "cell_type": "code",
   "execution_count": 121,
   "metadata": {},
   "outputs": [
    {
     "name": "stdout",
     "output_type": "stream",
     "text": [
      "Advanced Model Accuracy  0.9456475583864119\n",
      "Simple Model Accuracy  0.6552016985138004\n"
     ]
    }
   ],
   "source": [
    "# And now we can check its accuracy\n",
    "from sklearn.metrics import accuracy_score\n",
    "\n",
    "print(\"Simple Model Accuracy \",accuracy_score(vl, srf_pred))\n",
    "print(\"Advanced Model Accuracy \",accuracy_score(vl, arf_pred))"
   ]
  },
  {
   "cell_type": "code",
   "execution_count": 93,
   "metadata": {},
   "outputs": [],
   "source": [
    "# Get Class Labels\n",
    "class_mappings = {1:\"Dead Grass\", 2:\"River\", 3:\"Pool\", 4:\"Grass\", 5:\"Tree\", 6:\"Road\" }\n",
    "\n",
    "# Turn them into a list from later\n",
    "class_labels = list(class_mappings.values())"
   ]
  },
  {
   "cell_type": "code",
   "execution_count": 127,
   "metadata": {},
   "outputs": [
    {
     "name": "stdout",
     "output_type": "stream",
     "text": [
      "[[440   0   0   0   0   0]\n",
      " [  0 425   0   0   0   0]\n",
      " [  0   0  81   0   0   0]\n",
      " [  0   0   0 186  24   0]\n",
      " [  0   0   0 104 369   0]\n",
      " [  0   0   0   0   0 726]]\n"
     ]
    }
   ],
   "source": [
    "# Lets Create a Confusion Matrix\n",
    "from sklearn.metrics import confusion_matrix\n",
    "cm = confusion_matrix(vl,arf_pred).T\n",
    "print(cm)"
   ]
  },
  {
   "cell_type": "code",
   "execution_count": 123,
   "metadata": {},
   "outputs": [
    {
     "data": {
      "image/png": "[encoded data removed]",
      "text/plain": [
       "<Figure size 432x288 with 2 Axes>"
      ]
     },
     "metadata": {
      "needs_background": "light"
     },
     "output_type": "display_data"
    },
    {
     "data": {
      "image/png": "[encoded data removed]",
      "text/plain": [
       "<Figure size 432x288 with 2 Axes>"
      ]
     },
     "metadata": {
      "needs_background": "light"
     },
     "output_type": "display_data"
    }
   ],
   "source": [
    "# Plot some confusion matricies\n",
    "import matplotlib.pyplot as plt\n",
    "def plot_confusion(actual, predicted, class_names, title=\"\", normalize=False):\n",
    "    cm = confusion_matrix(actual, predicted).T\n",
    "    if normalize:\n",
    "            cm = cm.astype('float') / cm.sum(axis=0)[:, np.newaxis]\n",
    "    plt.imshow(cm)\n",
    "    plt.xlabel(\"True\")\n",
    "    plt.ylabel(\"Predicted\")\n",
    "    plt.colorbar()\n",
    "    tick_marks = np.arange(len(class_names))\n",
    "    plt.xticks(tick_marks, class_names, rotation=45)\n",
    "    plt.yticks(tick_marks, class_names)\n",
    "    plt.title(title)\n",
    "    plt.show()\n",
    "\n",
    "plot_confusion(vl, arf_pred, class_labels, title=\"Advanced\", normalize=True)\n",
    "plot_confusion(vl, srf_pred, class_labels, title=\"Simple\", normalize=True)"
   ]
  },
  {
   "cell_type": "code",
   "execution_count": null,
   "metadata": {},
   "outputs": [],
   "source": []
  },
  {
   "cell_type": "code",
   "execution_count": null,
   "metadata": {},
   "outputs": [],
   "source": []
  },
  {
   "cell_type": "code",
   "execution_count": null,
   "metadata": {},
   "outputs": [],
   "source": []
  },
  {
   "cell_type": "code",
   "execution_count": null,
   "metadata": {},
   "outputs": [],
   "source": []
  }
 ],
 "metadata": {
  "kernelspec": {
   "display_name": "Python 3",
   "language": "python",
   "name": "python3"
  },
  "language_info": {
   "codemirror_mode": {
    "name": "ipython",
    "version": 3
   },
   "file_extension": ".py",
   "mimetype": "text/x-python",
   "name": "python",
   "nbconvert_exporter": "python",
   "pygments_lexer": "ipython3",
   "version": "3.6.8"
  }
 },
 "nbformat": 4,
 "nbformat_minor": 2
}
