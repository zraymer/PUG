{
 "cells": [
  {
   "cell_type": "code",
   "execution_count": 1,
   "metadata": {},
   "outputs": [],
   "source": [
    "import os\n",
    "import ogr\n",
    "import gdal\n",
    "from gdalconst import *\n",
    "import numpy as np\n",
    "import matplotlib.pyplot as plt"
   ]
  },
  {
   "cell_type": "code",
   "execution_count": 2,
   "metadata": {},
   "outputs": [],
   "source": [
    "# Create path to data directory, make sure it exists\n",
    "data_dir = os.path.join(os.path.normpath(os.getcwd() + os.sep + os.pardir),\"Data\")\n",
    "assert os.path.isdir"
   ]
  },
  {
   "cell_type": "code",
   "execution_count": 3,
   "metadata": {},
   "outputs": [],
   "source": [
    "# Define paths to shapefile and shape files + make sure it exists\n",
    "shpf = os.path.join(data_dir, \"PDX_BusRoutes_Manaul.shp\")\n",
    "assert os.path.isfile(shpf)\n",
    "\n",
    "imgf = os.path.join(data_dir, \"PDX_DEM_WGS84_UTM10N_Zm_INT16.tif\")\n",
    "assert os.path.isfile(imgf)"
   ]
  },
  {
   "cell_type": "code",
   "execution_count": null,
   "metadata": {},
   "outputs": [],
   "source": []
  }
 ],
 "metadata": {
  "kernelspec": {
   "display_name": "Python 3",
   "language": "python",
   "name": "python3"
  },
  "language_info": {
   "codemirror_mode": {
    "name": "ipython",
    "version": 3
   },
   "file_extension": ".py",
   "mimetype": "text/x-python",
   "name": "python",
   "nbconvert_exporter": "python",
   "pygments_lexer": "ipython3",
   "version": "3.6.8"
  }
 },
 "nbformat": 4,
 "nbformat_minor": 2
}
