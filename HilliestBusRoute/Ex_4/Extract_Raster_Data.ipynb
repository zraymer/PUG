{
 "cells": [
  {
   "cell_type": "code",
   "execution_count": 2,
   "metadata": {},
   "outputs": [],
   "source": [
    "import os\n",
    "import ogr\n",
    "import gdal\n",
    "import numpy as np\n",
    "import matplotlib.pyplot as plt"
   ]
  },
  {
   "cell_type": "code",
   "execution_count": 3,
   "metadata": {},
   "outputs": [],
   "source": [
    "# Create path to data directory, make sure it exists\n",
    "data_dir = os.path.join(os.path.normpath(os.getcwd() + os.sep + os.pardir),\"Data\")\n",
    "assert os.path.isdir"
   ]
  },
  {
   "cell_type": "code",
   "execution_count": 10,
   "metadata": {},
   "outputs": [],
   "source": [
    "# Define paths to shapefile and shape files + make sure it exists\n",
    "trdf = os.path.join(data_dir, \"Training_Data.shp\")\n",
    "assert os.path.isfile(trdf)\n",
    "\n",
    "valf = os.path.join(data_dir, \"Validation_Data.shp\")\n",
    "assert os.path.isfile(valf)\n",
    "\n",
    "imgf = os.path.join(data_dir, \"CASI_Subset.tif\")\n",
    "assert os.path.isfile(imgf)"
   ]
  },
  {
   "cell_type": "code",
   "execution_count": 21,
   "metadata": {},
   "outputs": [],
   "source": [
    "# Lets write a function that gives us the row/column offset and the number of rows and columns to extract\n",
    "# This function will help us extract the box of pixels around the feature in question. the geotransform \n",
    "# comes from the raster, the bounding box comes from a specific feature in a shapfile\n",
    "\n",
    "def bbox_to_pixel_offsets(geo_transform, bounding_box):\n",
    "    origin_x = geo_transform[0]\n",
    "    origin_y = geo_transform[3]\n",
    "    pixel_width = geo_transform[1]\n",
    "    pixel_height = geo_transform[5]\n",
    "    x1 = int(round((bounding_box[0] - origin_x) / pixel_width))\n",
    "    x2 = int(round((bounding_box[1] - origin_x) / pixel_width))\n",
    "    y1 = int(round((bounding_box[3] - origin_y) / pixel_height))\n",
    "    y2 = int(round((bounding_box[2] - origin_y) / pixel_height))\n",
    "    xsize = x2 - x1\n",
    "    ysize = y2 - y1\n",
    "    return [x1, y1, xsize, ysize]\n",
    "    "
   ]
  },
  {
   "cell_type": "code",
   "execution_count": 26,
   "metadata": {},
   "outputs": [],
   "source": [
    "def extract_data(vector_path, raster_path, fid, class_field_name=None):\n",
    "    \n",
    "    # Turn raster data into a numpy array\n",
    "    rds = gdal.Open(raster_path)\n",
    "    gt = rds.GetGeoTransform()\n",
    "    \n",
    "    # Open the vector dataset and get the data layer\n",
    "    vds = ogr.Open(vector_path)\n",
    "    lyr = vds.GetLayer(0)\n",
    "    \n",
    "    #get the feature provided from the function arguements\n",
    "    feature = lyr.GetFeature(fid)\n",
    "    bbox = feature.geometry().GetEnvelope()\n",
    "    \n",
    "    offset = bbox_to_pixel_offsets(gt, bbox)\n",
    "    \n",
    "    # Two ways of doing this ...\n",
    "    # 1. use arguements of ReadAsArray to only read the part of the raster we want\n",
    "    option1 = rds.ReadAsArray(xoff=offset[0], yoff=offset[1], xsize=offset[2], ysize=offset[3])\n",
    "    \n",
    "    #2. Read the array into memory and then index the array\n",
    "    # Why would we want to do one over the other          <--------------------------QUESTION\n",
    "    # Preforming \"ReadAsArray\" on the dataset assumes that you want all of the bands\n",
    "    # returned to you in a (bands, rows, columns) shaped array\n",
    "    data = rds.ReadAsArray()\n",
    "    option2 = data[:,offset[1]:offset[1]+offset[3],offset[0]:offset[0]+offset[2]]\n",
    "    \n",
    "    return option1, option2\n",
    "    \n",
    "    \n",
    "    \n",
    "    "
   ]
  },
  {
   "cell_type": "code",
   "execution_count": 27,
   "metadata": {},
   "outputs": [],
   "source": [
    "a, b = extract_data(trdf, imgf, 0)"
   ]
  },
  {
   "cell_type": "code",
   "execution_count": 33,
   "metadata": {},
   "outputs": [
    {
     "data": {
      "text/plain": [
       "True"
      ]
     },
     "execution_count": 33,
     "metadata": {},
     "output_type": "execute_result"
    }
   ],
   "source": [
    "a.all() == b.all()"
   ]
  },
  {
   "cell_type": "code",
   "execution_count": 30,
   "metadata": {},
   "outputs": [
    {
     "data": {
      "text/plain": [
       "(5, 13, 12)"
      ]
     },
     "execution_count": 30,
     "metadata": {},
     "output_type": "execute_result"
    }
   ],
   "source": []
  },
  {
   "cell_type": "code",
   "execution_count": null,
   "metadata": {},
   "outputs": [],
   "source": []
  }
 ],
 "metadata": {
  "kernelspec": {
   "display_name": "Python 3",
   "language": "python",
   "name": "python3"
  },
  "language_info": {
   "codemirror_mode": {
    "name": "ipython",
    "version": 3
   },
   "file_extension": ".py",
   "mimetype": "text/x-python",
   "name": "python",
   "nbconvert_exporter": "python",
   "pygments_lexer": "ipython3",
   "version": "3.6.8"
  }
 },
 "nbformat": 4,
 "nbformat_minor": 2
}
